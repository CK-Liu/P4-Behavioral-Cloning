{
 "cells": [
  {
   "cell_type": "code",
   "execution_count": 4,
   "metadata": {},
   "outputs": [],
   "source": [
    "import csv\n",
    "import cv2\n",
    "import numpy as np"
   ]
  },
  {
   "cell_type": "code",
   "execution_count": 5,
   "metadata": {},
   "outputs": [
    {
     "name": "stdout",
     "output_type": "stream",
     "text": [
      "['IMG/center_2016_12_01_13_30_48_287.jpg', ' IMG/left_2016_12_01_13_30_48_287.jpg', ' IMG/right_2016_12_01_13_30_48_287.jpg', ' 0', ' 0', ' 0', ' 22.14829']\n",
      "['IMG/center_2016_12_01_13_30_48_404.jpg', ' IMG/left_2016_12_01_13_30_48_404.jpg', ' IMG/right_2016_12_01_13_30_48_404.jpg', ' 0', ' 0', ' 0', ' 21.87963']\n",
      "8036\n"
     ]
    }
   ],
   "source": [
    "lines = []\n",
    "with open('./data/driving_log.csv') as csvfile:\n",
    "    reader = csv.reader(csvfile)\n",
    "    i = 0\n",
    "    for line in reader:\n",
    "        if i > 0:\n",
    "            lines.append(line)\n",
    "        i =1\n",
    "    print(lines[0])\n",
    "    print(lines[1])\n",
    "    print(len(lines))"
   ]
  },
  {
   "cell_type": "code",
   "execution_count": 17,
   "metadata": {},
   "outputs": [
    {
     "name": "stdout",
     "output_type": "stream",
     "text": [
      "(160, 320, 3)\n",
      "8036\n",
      "8036\n",
      "<class 'float'>\n"
     ]
    }
   ],
   "source": [
    "images = []\n",
    "measurements = []\n",
    "for line in lines:\n",
    "    source_path = line[0]\n",
    "    local_path = './data/' + source_path\n",
    "    img = cv2.imread(local_path)\n",
    "    images.append(img)\n",
    "    measurements.append(float(line[3]))\n",
    "\n",
    "print(images[0].shape)\n",
    "print(len(images))\n",
    "print(len(measurements))\n",
    "print(type(measurements[0]))"
   ]
  },
  {
   "cell_type": "code",
   "execution_count": 16,
   "metadata": {},
   "outputs": [
    {
     "name": "stdout",
     "output_type": "stream",
     "text": [
      "<class 'str'>\n",
      "<class 'float'>\n"
     ]
    }
   ],
   "source": [
    "# print(type(measurements[0]))\n",
    "# x = float(measurements[0])\n",
    "# print(type(x))"
   ]
  },
  {
   "cell_type": "code",
   "execution_count": 20,
   "metadata": {},
   "outputs": [
    {
     "name": "stdout",
     "output_type": "stream",
     "text": [
      "Epoch 1/10\n",
      "201/201 [==============================] - 1s 5ms/step - loss: 28709282.5437 - val_loss: 5004.1816\n",
      "Epoch 2/10\n",
      "201/201 [==============================] - 1s 4ms/step - loss: 4456.4581 - val_loss: 3815.2170\n",
      "Epoch 3/10\n",
      "201/201 [==============================] - 1s 4ms/step - loss: 3027.6450 - val_loss: 1742.7424\n",
      "Epoch 4/10\n",
      "201/201 [==============================] - 1s 4ms/step - loss: 1931.6229 - val_loss: 1483.0381\n",
      "Epoch 5/10\n",
      "201/201 [==============================] - 1s 4ms/step - loss: 1693.3542 - val_loss: 2003.5516\n",
      "Epoch 6/10\n",
      "201/201 [==============================] - 1s 4ms/step - loss: 1939.0787 - val_loss: 1365.2484\n",
      "Epoch 7/10\n",
      "201/201 [==============================] - 1s 4ms/step - loss: 1634.1861 - val_loss: 1320.6375\n",
      "Epoch 8/10\n",
      "201/201 [==============================] - 1s 4ms/step - loss: 1607.1423 - val_loss: 1293.5812\n",
      "Epoch 9/10\n",
      "201/201 [==============================] - 1s 4ms/step - loss: 2021.2886 - val_loss: 3477.7659\n",
      "Epoch 10/10\n",
      "201/201 [==============================] - 1s 4ms/step - loss: 8858.3000 - val_loss: 9773.0928\n"
     ]
    }
   ],
   "source": [
    "shape = images[0].shape\n",
    "X_train = np.array(images)\n",
    "y_train = np.array(measurements)\n",
    "\n",
    "import keras\n",
    "from keras.models import Sequential\n",
    "from keras.layers import Flatten, Dense\n",
    "\n",
    "model = Sequential()\n",
    "model.add(Flatten(input_shape=shape))\n",
    "model.add(Dense(1))\n",
    "\n",
    "model.compile(optimizer='adam', loss='mse')\n",
    "model.fit(X_train, y_train, validation_split=0.2, shuffle=True, epochs=10)\n",
    "\n",
    "model.save('model.h5')"
   ]
  },
  {
   "cell_type": "code",
   "execution_count": null,
   "metadata": {},
   "outputs": [],
   "source": []
  }
 ],
 "metadata": {
  "kernelspec": {
   "display_name": "Python 3",
   "language": "python",
   "name": "python3"
  },
  "language_info": {
   "codemirror_mode": {
    "name": "ipython",
    "version": 3
   },
   "file_extension": ".py",
   "mimetype": "text/x-python",
   "name": "python",
   "nbconvert_exporter": "python",
   "pygments_lexer": "ipython3",
   "version": "3.8.5"
  }
 },
 "nbformat": 4,
 "nbformat_minor": 4
}
